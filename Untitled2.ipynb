{
 "cells": [
  {
   "cell_type": "code",
   "execution_count": 1,
   "id": "5c2ab756",
   "metadata": {},
   "outputs": [],
   "source": [
    "from bs4 import BeautifulSoup\n",
    "import requests\n",
    "import pandas as pd\n",
    "from pandas import json_normalize\n",
    "import json\n",
    "import spotipy\n",
    "from spotipy.oauth2 import SpotifyClientCredentials\n",
    "import time\n",
    "import argparse\n",
    "import logging\n",
    "from random import randint\n",
    "from time import sleep\n",
    "from tqdm import tqdm"
   ]
  },
  {
   "cell_type": "code",
   "execution_count": null,
   "id": "a280f10e",
   "metadata": {},
   "outputs": [],
   "source": []
  },
  {
   "cell_type": "code",
   "execution_count": 2,
   "id": "8b5030b9",
   "metadata": {},
   "outputs": [],
   "source": [
    "secrets_file = open(\"ferreira_s.txt\",\"r\")\n",
    "string = secrets_file.read()\n",
    "secrets_dict={}\n",
    "for line in string.split('\\n'):\n",
    "    if len(line) > 0:\n",
    "        secrets_dict[line.split(':')[0]]=line.split(':')[1]"
   ]
  },
  {
   "cell_type": "code",
   "execution_count": 3,
   "id": "5d1a5549",
   "metadata": {},
   "outputs": [],
   "source": [
    "sp = spotipy.Spotify(auth_manager=SpotifyClientCredentials(client_id=secrets_dict['cid'],\n",
    "                                                           client_secret=secrets_dict['csecret']))"
   ]
  },
  {
   "cell_type": "code",
   "execution_count": 4,
   "id": "dc43427c",
   "metadata": {},
   "outputs": [],
   "source": [
    "def get_playlist_tracks(playlist_id):\n",
    "    results = sp.user_playlist_tracks(\"spotify\",playlist_id)\n",
    "    tracks = results['items']\n",
    "    while results['next']!=None:\n",
    "        results = sp.next(results)\n",
    "        tracks = tracks + results['items']\n",
    "        sleep(randint(1,3))\n",
    "    return tracks"
   ]
  },
  {
   "cell_type": "code",
   "execution_count": 5,
   "id": "a483344f",
   "metadata": {},
   "outputs": [],
   "source": [
    "def ferreira_spotify(x):\n",
    "    \n",
    "# getting songs from a playlist\n",
    "    track_uri = []\n",
    "    track_name = []\n",
    "    artist_uris = []\n",
    "    artist_name = []\n",
    "    artist_infos = []\n",
    "    artist_pop= []\n",
    "    artist_genres= []\n",
    "    album_name = []\n",
    "    track_pop = []\n",
    "    for track in x:\n",
    "        track_uri.append(track[\"track\"][\"uri\"])\n",
    "        track_name.append(track[\"track\"][\"name\"])\n",
    "        artist_uri = track[\"track\"][\"artists\"][0][\"uri\"]\n",
    "        artist_uris.append(artist_uri)\n",
    "        artist_name.append(track[\"track\"][\"artists\"][0][\"name\"])\n",
    "        album_name.append(track[\"track\"][\"album\"][\"name\"])\n",
    "        track_pop.append(track[\"track\"][\"popularity\"])\n",
    "        try:\n",
    "            artist_info = sp.artist(artist_uri)\n",
    "            sleep(randint(1,3))\n",
    "            artist_infos.append(artist_info)\n",
    "            artist_pop.append(artist_info[\"popularity\"])\n",
    "            artist_genres.append(artist_info[\"genres\"])\n",
    "        except:\n",
    "            artist_infos.append('NaN')\n",
    "            artist_pop.append('NaN')\n",
    "            artist_genres.append('NaN')\n",
    "            \n",
    "# cleaning uri's from artists and songs    \n",
    "    artist_uris_c = []\n",
    "    song_uris_c = []\n",
    "    for a in artist_uris:\n",
    "        try:\n",
    "            x = a[-22:]\n",
    "            artist_uris_c.append(x)\n",
    "        except:\n",
    "            artist_uris_c.append(x)\n",
    "        \n",
    "    for a in track_uri:\n",
    "        try:\n",
    "            x = a[-22:]\n",
    "            song_uris_c.append(x)\n",
    "        except:\n",
    "            song_uris_c.append(x)\n",
    "\n",
    "# working on features    \n",
    "    danceability_ = []\n",
    "    energy_ = []\n",
    "    key_ = []\n",
    "    loudness_ = []\n",
    "    mode_ = []\n",
    "    speechiness_ =[]\n",
    "    acousticness_ = []\n",
    "    instrumentalness_ = []\n",
    "    liveness_ = []\n",
    "    valence_ = []\n",
    "    tempo_ = []\n",
    "    track_href_ = []\n",
    "    analysis_url_ = []\n",
    "    time_signature_ = []\n",
    "    duration_ms_ = []\n",
    "    for track in track_uri:\n",
    "        x = sp.audio_features(track)[0]\n",
    "        try:    \n",
    "            danceability_.append(x['danceability'])\n",
    "        except:\n",
    "            danceability_.append('NaN')\n",
    "        try:    \n",
    "            energy_.append(x['energy'])\n",
    "        except:\n",
    "            energy_.append('NaN') \n",
    "        try:    \n",
    "            key_.append(x['key'])\n",
    "        except:\n",
    "            key_.append('NaN') \n",
    "        try:    \n",
    "            loudness_.append(x['loudness'])\n",
    "        except:\n",
    "            loudness_.append('NaN')\n",
    "        try:    \n",
    "            mode_.append(x['mode'])\n",
    "        except:\n",
    "            mode_.append('NaN')    \n",
    "        try:    \n",
    "            speechiness_.append(x['speechiness'])\n",
    "        except:\n",
    "            speechiness_.append('NaN')\n",
    "        try:    \n",
    "            acousticness_.append(x['acousticness'])\n",
    "        except:\n",
    "            acousticness_.append('NaN')\n",
    "        try:    \n",
    "            instrumentalness_.append(x['instrumentalness'])\n",
    "        except:\n",
    "            instrumentalness_.append('NaN')   \n",
    "        try:    \n",
    "            liveness_.append(x['liveness'])\n",
    "        except:\n",
    "            liveness_.append('NaN')      \n",
    "        try:    \n",
    "            valence_.append(x['valence'])\n",
    "        except:\n",
    "            valence_.append('NaN')\n",
    "        try:    \n",
    "            tempo_.append(x['tempo'])\n",
    "        except:\n",
    "            tempo_.append('NaN')\n",
    "        try:    \n",
    "            track_href_.append(x['track_href'])\n",
    "        except:\n",
    "            track_href_.append('NaN')\n",
    "        try:    \n",
    "            analysis_url_.append(x['analysis_url'])\n",
    "        except:\n",
    "            analysis_url_.append('NaN')\n",
    "        try:    \n",
    "            duration_ms_.append(x['duration_ms'])\n",
    "        except:\n",
    "            duration_ms_.append('NaN')\n",
    "        try:    \n",
    "            time_signature_.append(x['time_signature'])\n",
    "        except:\n",
    "            time_signature_.append('NaN')\n",
    "\n",
    "\n",
    "# creating a dataframe    \n",
    "    song_library = pd.DataFrame({\"S Uri\":song_uris_c, \"Song\":track_name,\"A Uri\":artist_uris_c, \"Artist\":artist_name,\"Genre\":artist_genres, \"Song Pop\": track_pop, \"Artist Pop\":artist_pop, \"Danceability\":danceability_, \"Energy\":energy_,\"Key\":key_, \"Loudness\":loudness_,\"Mode\":mode_, \"Speechiness\": speechiness_, \"Acousticness\":acousticness_, \"Instrumentalness\":instrumentalness_,\"Liveness\":liveness_, \"Valence\": valence_, \"Tempo\":tempo_, \"Track_href\":track_href_, \"Analysis_url\":analysis_url_,\"Time_signature\":time_signature_, \"Duration_ms\":duration_ms_})\n",
    "\n",
    "# returning a beautiful dataframe with the songs from the playlist    \n",
    "    return song_library"
   ]
  },
  {
   "cell_type": "code",
   "execution_count": null,
   "id": "a174f0de",
   "metadata": {},
   "outputs": [],
   "source": []
  },
  {
   "cell_type": "code",
   "execution_count": null,
   "id": "43fb1696",
   "metadata": {},
   "outputs": [],
   "source": [
    "%%time\n",
    "playlist1 = get_playlist_tracks(\"5vcewDsUWbgvCsfJsErXDY\")"
   ]
  },
  {
   "cell_type": "code",
   "execution_count": null,
   "id": "dc354076",
   "metadata": {},
   "outputs": [],
   "source": [
    "%%time\n",
    "df1 = ferreira_spotify(playlist1)"
   ]
  },
  {
   "cell_type": "code",
   "execution_count": null,
   "id": "25895cfd",
   "metadata": {},
   "outputs": [],
   "source": [
    "df1.to_csv('df1.csv',sep=',')"
   ]
  },
  {
   "cell_type": "code",
   "execution_count": null,
   "id": "ae0275c1",
   "metadata": {},
   "outputs": [],
   "source": [
    "%%time\n",
    "playlist2 = get_playlist_tracks(\"3jfu5qxUc3pVwERVtySDOq\")"
   ]
  },
  {
   "cell_type": "code",
   "execution_count": null,
   "id": "7370f45a",
   "metadata": {},
   "outputs": [],
   "source": [
    "%%time\n",
    "df2 = ferreira_spotify(playlist2)"
   ]
  },
  {
   "cell_type": "code",
   "execution_count": null,
   "id": "aec79a4d",
   "metadata": {},
   "outputs": [],
   "source": [
    "df2.to_csv('df2.csv',sep=',')"
   ]
  },
  {
   "cell_type": "code",
   "execution_count": null,
   "id": "fa318ccb",
   "metadata": {},
   "outputs": [],
   "source": [
    "%%time\n",
    "playlist3 = get_playlist_tracks(\"1WEOQRhIGHSlcULZOzmZIb\")"
   ]
  },
  {
   "cell_type": "code",
   "execution_count": null,
   "id": "1cd60b9c",
   "metadata": {},
   "outputs": [],
   "source": [
    "%%time\n",
    "df3 = ferreira_spotify(playlist3)"
   ]
  },
  {
   "cell_type": "code",
   "execution_count": null,
   "id": "e7fbbd6e",
   "metadata": {},
   "outputs": [],
   "source": [
    "df3.to_csv('df3.csv',sep=',')"
   ]
  },
  {
   "cell_type": "code",
   "execution_count": null,
   "id": "640bb69e",
   "metadata": {},
   "outputs": [],
   "source": [
    "%%time\n",
    "someones_playlist = get_playlist_tracks(\"54nv8jbrm4JoHEZ49Qvjgl\")"
   ]
  },
  {
   "cell_type": "code",
   "execution_count": null,
   "id": "fa384d16",
   "metadata": {},
   "outputs": [],
   "source": [
    "%%time\n",
    "df4 = ferreira_spotify(someones_playlist)"
   ]
  },
  {
   "cell_type": "code",
   "execution_count": null,
   "id": "6e22db43",
   "metadata": {},
   "outputs": [],
   "source": [
    "df4.to_csv('df4.csv',sep=',')"
   ]
  },
  {
   "cell_type": "code",
   "execution_count": null,
   "id": "3564c3a4",
   "metadata": {},
   "outputs": [],
   "source": [
    "portugal_library = pd.concat([df1, df2, df3, df4], axis=1)"
   ]
  }
 ],
 "metadata": {
  "kernelspec": {
   "display_name": "Python 3 (ipykernel)",
   "language": "python",
   "name": "python3"
  },
  "language_info": {
   "codemirror_mode": {
    "name": "ipython",
    "version": 3
   },
   "file_extension": ".py",
   "mimetype": "text/x-python",
   "name": "python",
   "nbconvert_exporter": "python",
   "pygments_lexer": "ipython3",
   "version": "3.9.12"
  },
  "toc": {
   "base_numbering": 1,
   "nav_menu": {},
   "number_sections": true,
   "sideBar": true,
   "skip_h1_title": false,
   "title_cell": "Table of Contents",
   "title_sidebar": "Contents",
   "toc_cell": false,
   "toc_position": {},
   "toc_section_display": true,
   "toc_window_display": false
  }
 },
 "nbformat": 4,
 "nbformat_minor": 5
}
