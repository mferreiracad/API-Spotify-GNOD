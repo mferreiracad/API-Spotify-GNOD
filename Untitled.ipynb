{
 "cells": [
  {
   "cell_type": "code",
   "execution_count": 1,
   "id": "28e22778",
   "metadata": {},
   "outputs": [],
   "source": [
    "from bs4 import BeautifulSoup\n",
    "import requests\n",
    "import pandas as pd"
   ]
  },
  {
   "cell_type": "code",
   "execution_count": 2,
   "id": "1d2a5721",
   "metadata": {},
   "outputs": [],
   "source": [
    "url = \"https://kworb.net/spotify/country/global_daily.html\""
   ]
  },
  {
   "cell_type": "code",
   "execution_count": 3,
   "id": "789f3bc7",
   "metadata": {},
   "outputs": [
    {
     "data": {
      "text/plain": [
       "200"
      ]
     },
     "execution_count": 3,
     "metadata": {},
     "output_type": "execute_result"
    }
   ],
   "source": [
    "response = requests.get(url)\n",
    "response.status_code"
   ]
  },
  {
   "cell_type": "code",
   "execution_count": 4,
   "id": "2ecc54cd",
   "metadata": {},
   "outputs": [],
   "source": [
    "soup = BeautifulSoup(response.content, \"html.parser\")"
   ]
  },
  {
   "cell_type": "code",
   "execution_count": 6,
   "id": "9a06be51",
   "metadata": {},
   "outputs": [],
   "source": [
    "b = soup.select('tr td.text.mp')"
   ]
  },
  {
   "cell_type": "code",
   "execution_count": 7,
   "id": "b19e5f6c",
   "metadata": {},
   "outputs": [],
   "source": [
    "title = []\n",
    "artist = []\n",
    "num_iter = len(b)\n",
    "artlist = soup.select(\"div > a:nth-child(1)\")\n",
    "musiclist = soup.select('div > a:nth-child(2)')\n",
    "for i in range(num_iter):\n",
    "    title.append(musiclist[i].get_text())\n",
    "    artist.append(artlist[i].get_text())"
   ]
  },
  {
   "cell_type": "code",
   "execution_count": 27,
   "id": "a13e6d58",
   "metadata": {},
   "outputs": [],
   "source": [
    "hot100 =pd.DataFrame({\"title\":title,\"artist\":artist})"
   ]
  },
  {
   "cell_type": "code",
   "execution_count": 28,
   "id": "321bae41",
   "metadata": {},
   "outputs": [],
   "source": [
    "hot100.drop(hot100.index[100:200], axis=0, inplace=True)"
   ]
  },
  {
   "cell_type": "code",
   "execution_count": 35,
   "id": "966543ad",
   "metadata": {},
   "outputs": [],
   "source": [
    "hot100 = hot100.apply(lambda x: x.astype(str).str.upper())"
   ]
  },
  {
   "cell_type": "code",
   "execution_count": 36,
   "id": "2558d581",
   "metadata": {},
   "outputs": [
    {
     "data": {
      "text/html": [
       "<div>\n",
       "<style scoped>\n",
       "    .dataframe tbody tr th:only-of-type {\n",
       "        vertical-align: middle;\n",
       "    }\n",
       "\n",
       "    .dataframe tbody tr th {\n",
       "        vertical-align: top;\n",
       "    }\n",
       "\n",
       "    .dataframe thead th {\n",
       "        text-align: right;\n",
       "    }\n",
       "</style>\n",
       "<table border=\"1\" class=\"dataframe\">\n",
       "  <thead>\n",
       "    <tr style=\"text-align: right;\">\n",
       "      <th></th>\n",
       "      <th>title</th>\n",
       "      <th>artist</th>\n",
       "    </tr>\n",
       "  </thead>\n",
       "  <tbody>\n",
       "    <tr>\n",
       "      <th>0</th>\n",
       "      <td>QUEVEDO: BZRP MUSIC SESSIONS, VOL. 52</td>\n",
       "      <td>BIZARRAP</td>\n",
       "    </tr>\n",
       "    <tr>\n",
       "      <th>1</th>\n",
       "      <td>AS IT WAS</td>\n",
       "      <td>HARRY STYLES</td>\n",
       "    </tr>\n",
       "    <tr>\n",
       "      <th>2</th>\n",
       "      <td>RUNNING UP THAT HILL (A DEAL WITH GOD)</td>\n",
       "      <td>KATE BUSH</td>\n",
       "    </tr>\n",
       "    <tr>\n",
       "      <th>3</th>\n",
       "      <td>ME PORTO BONITO</td>\n",
       "      <td>BAD BUNNY</td>\n",
       "    </tr>\n",
       "    <tr>\n",
       "      <th>4</th>\n",
       "      <td>TITÍ ME PREGUNTÓ</td>\n",
       "      <td>BAD BUNNY</td>\n",
       "    </tr>\n",
       "    <tr>\n",
       "      <th>...</th>\n",
       "      <td>...</td>\n",
       "      <td>...</td>\n",
       "    </tr>\n",
       "    <tr>\n",
       "      <th>95</th>\n",
       "      <td>KISS ME MORE</td>\n",
       "      <td>DOJA CAT</td>\n",
       "    </tr>\n",
       "    <tr>\n",
       "      <th>96</th>\n",
       "      <td>LAST LAST</td>\n",
       "      <td>BURNA BOY</td>\n",
       "    </tr>\n",
       "    <tr>\n",
       "      <th>97</th>\n",
       "      <td>LAYLA</td>\n",
       "      <td>DJ ROBIN</td>\n",
       "    </tr>\n",
       "    <tr>\n",
       "      <th>98</th>\n",
       "      <td>LIGHT SWITCH</td>\n",
       "      <td>CHARLIE PUTH</td>\n",
       "    </tr>\n",
       "    <tr>\n",
       "      <th>99</th>\n",
       "      <td>ABCDEFU</td>\n",
       "      <td>GAYLE</td>\n",
       "    </tr>\n",
       "  </tbody>\n",
       "</table>\n",
       "<p>100 rows × 2 columns</p>\n",
       "</div>"
      ],
      "text/plain": [
       "                                     title        artist\n",
       "0    QUEVEDO: BZRP MUSIC SESSIONS, VOL. 52      BIZARRAP\n",
       "1                                AS IT WAS  HARRY STYLES\n",
       "2   RUNNING UP THAT HILL (A DEAL WITH GOD)     KATE BUSH\n",
       "3                          ME PORTO BONITO     BAD BUNNY\n",
       "4                         TITÍ ME PREGUNTÓ     BAD BUNNY\n",
       "..                                     ...           ...\n",
       "95                            KISS ME MORE      DOJA CAT\n",
       "96                               LAST LAST     BURNA BOY\n",
       "97                                   LAYLA      DJ ROBIN\n",
       "98                            LIGHT SWITCH  CHARLIE PUTH\n",
       "99                                 ABCDEFU         GAYLE\n",
       "\n",
       "[100 rows x 2 columns]"
      ]
     },
     "execution_count": 36,
     "metadata": {},
     "output_type": "execute_result"
    }
   ],
   "source": [
    "hot100"
   ]
  },
  {
   "cell_type": "code",
   "execution_count": 37,
   "id": "a268c187",
   "metadata": {},
   "outputs": [],
   "source": [
    "hot100.to_csv('hot.csv')"
   ]
  },
  {
   "cell_type": "code",
   "execution_count": 38,
   "id": "f584f642",
   "metadata": {},
   "outputs": [],
   "source": [
    "model = pd.read_csv('final_final.csv')"
   ]
  },
  {
   "cell_type": "code",
   "execution_count": 39,
   "id": "0aab1126",
   "metadata": {},
   "outputs": [],
   "source": [
    "model = model.drop('Unnamed: 0', axis=1)"
   ]
  },
  {
   "cell_type": "code",
   "execution_count": 40,
   "id": "f451f9ba",
   "metadata": {},
   "outputs": [],
   "source": [
    "model = model.apply(lambda x: x.astype(str).str.upper())"
   ]
  },
  {
   "cell_type": "code",
   "execution_count": 41,
   "id": "7a4778a8",
   "metadata": {},
   "outputs": [],
   "source": [
    "model.to_csv('final_final.csv')"
   ]
  },
  {
   "cell_type": "code",
   "execution_count": null,
   "id": "c1a1fa01",
   "metadata": {},
   "outputs": [],
   "source": []
  }
 ],
 "metadata": {
  "kernelspec": {
   "display_name": "Python 3 (ipykernel)",
   "language": "python",
   "name": "python3"
  },
  "language_info": {
   "codemirror_mode": {
    "name": "ipython",
    "version": 3
   },
   "file_extension": ".py",
   "mimetype": "text/x-python",
   "name": "python",
   "nbconvert_exporter": "python",
   "pygments_lexer": "ipython3",
   "version": "3.9.12"
  },
  "toc": {
   "base_numbering": 1,
   "nav_menu": {},
   "number_sections": true,
   "sideBar": true,
   "skip_h1_title": false,
   "title_cell": "Table of Contents",
   "title_sidebar": "Contents",
   "toc_cell": false,
   "toc_position": {},
   "toc_section_display": true,
   "toc_window_display": false
  }
 },
 "nbformat": 4,
 "nbformat_minor": 5
}
